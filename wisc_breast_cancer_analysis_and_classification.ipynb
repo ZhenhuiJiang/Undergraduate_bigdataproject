{
 "cells": [
  {
   "cell_type": "markdown",
   "metadata": {},
   "source": [
    "## Project 2: Exploratory Data Analysis (EDA) and Classification  \n",
    "### Data Source: Wisconsin Breast Cancer Database  \n",
    "### Total Possible Points: 10"
   ]
  },
  {
   "cell_type": "markdown",
   "metadata": {},
   "source": [
    "### PART I: (EDA) Run the cells below and answer questions about the data  \n",
    "Source dataset from UC Irvice Machine Learning Repo URL and save to project"
   ]
  },
  {
   "cell_type": "code",
   "execution_count": 102,
   "metadata": {
    "collapsed": true
   },
   "outputs": [],
   "source": [
    "import os\n",
    "import os.path\n",
    "import pandas as pd\n",
    "from pyspark import SparkContext\n",
    "from pyspark.sql import SQLContext"
   ]
  },
  {
   "cell_type": "code",
   "execution_count": 103,
   "metadata": {
    "collapsed": true
   },
   "outputs": [],
   "source": [
    "url_data = 'https://archive.ics.uci.edu/ml/machine-learning-databases/breast-cancer-wisconsin/wdbc.data'"
   ]
  },
  {
   "cell_type": "code",
   "execution_count": 104,
   "metadata": {
    "collapsed": true
   },
   "outputs": [],
   "source": [
    "df = pd.read_csv(url_data)"
   ]
  },
  {
   "cell_type": "code",
   "execution_count": 101,
   "metadata": {
    "collapsed": false
   },
   "outputs": [
    {
     "data": {
      "text/html": [
       "<div>\n",
       "<style scoped>\n",
       "    .dataframe tbody tr th:only-of-type {\n",
       "        vertical-align: middle;\n",
       "    }\n",
       "\n",
       "    .dataframe tbody tr th {\n",
       "        vertical-align: top;\n",
       "    }\n",
       "\n",
       "    .dataframe thead th {\n",
       "        text-align: right;\n",
       "    }\n",
       "</style>\n",
       "<table border=\"1\" class=\"dataframe\">\n",
       "  <thead>\n",
       "    <tr style=\"text-align: right;\">\n",
       "      <th></th>\n",
       "      <th>842302</th>\n",
       "      <th>M</th>\n",
       "      <th>17.99</th>\n",
       "      <th>10.38</th>\n",
       "      <th>122.8</th>\n",
       "      <th>1001</th>\n",
       "      <th>0.1184</th>\n",
       "      <th>0.2776</th>\n",
       "      <th>0.3001</th>\n",
       "      <th>0.1471</th>\n",
       "      <th>...</th>\n",
       "      <th>25.38</th>\n",
       "      <th>17.33</th>\n",
       "      <th>184.6</th>\n",
       "      <th>2019</th>\n",
       "      <th>0.1622</th>\n",
       "      <th>0.6656</th>\n",
       "      <th>0.7119</th>\n",
       "      <th>0.2654</th>\n",
       "      <th>0.4601</th>\n",
       "      <th>0.1189</th>\n",
       "    </tr>\n",
       "  </thead>\n",
       "  <tbody>\n",
       "    <tr>\n",
       "      <th>0</th>\n",
       "      <td>842517</td>\n",
       "      <td>M</td>\n",
       "      <td>20.57</td>\n",
       "      <td>17.77</td>\n",
       "      <td>132.90</td>\n",
       "      <td>1326.0</td>\n",
       "      <td>0.08474</td>\n",
       "      <td>0.07864</td>\n",
       "      <td>0.0869</td>\n",
       "      <td>0.07017</td>\n",
       "      <td>...</td>\n",
       "      <td>24.99</td>\n",
       "      <td>23.41</td>\n",
       "      <td>158.80</td>\n",
       "      <td>1956.0</td>\n",
       "      <td>0.1238</td>\n",
       "      <td>0.1866</td>\n",
       "      <td>0.2416</td>\n",
       "      <td>0.1860</td>\n",
       "      <td>0.2750</td>\n",
       "      <td>0.08902</td>\n",
       "    </tr>\n",
       "    <tr>\n",
       "      <th>1</th>\n",
       "      <td>84300903</td>\n",
       "      <td>M</td>\n",
       "      <td>19.69</td>\n",
       "      <td>21.25</td>\n",
       "      <td>130.00</td>\n",
       "      <td>1203.0</td>\n",
       "      <td>0.10960</td>\n",
       "      <td>0.15990</td>\n",
       "      <td>0.1974</td>\n",
       "      <td>0.12790</td>\n",
       "      <td>...</td>\n",
       "      <td>23.57</td>\n",
       "      <td>25.53</td>\n",
       "      <td>152.50</td>\n",
       "      <td>1709.0</td>\n",
       "      <td>0.1444</td>\n",
       "      <td>0.4245</td>\n",
       "      <td>0.4504</td>\n",
       "      <td>0.2430</td>\n",
       "      <td>0.3613</td>\n",
       "      <td>0.08758</td>\n",
       "    </tr>\n",
       "    <tr>\n",
       "      <th>2</th>\n",
       "      <td>84348301</td>\n",
       "      <td>M</td>\n",
       "      <td>11.42</td>\n",
       "      <td>20.38</td>\n",
       "      <td>77.58</td>\n",
       "      <td>386.1</td>\n",
       "      <td>0.14250</td>\n",
       "      <td>0.28390</td>\n",
       "      <td>0.2414</td>\n",
       "      <td>0.10520</td>\n",
       "      <td>...</td>\n",
       "      <td>14.91</td>\n",
       "      <td>26.50</td>\n",
       "      <td>98.87</td>\n",
       "      <td>567.7</td>\n",
       "      <td>0.2098</td>\n",
       "      <td>0.8663</td>\n",
       "      <td>0.6869</td>\n",
       "      <td>0.2575</td>\n",
       "      <td>0.6638</td>\n",
       "      <td>0.17300</td>\n",
       "    </tr>\n",
       "    <tr>\n",
       "      <th>3</th>\n",
       "      <td>84358402</td>\n",
       "      <td>M</td>\n",
       "      <td>20.29</td>\n",
       "      <td>14.34</td>\n",
       "      <td>135.10</td>\n",
       "      <td>1297.0</td>\n",
       "      <td>0.10030</td>\n",
       "      <td>0.13280</td>\n",
       "      <td>0.1980</td>\n",
       "      <td>0.10430</td>\n",
       "      <td>...</td>\n",
       "      <td>22.54</td>\n",
       "      <td>16.67</td>\n",
       "      <td>152.20</td>\n",
       "      <td>1575.0</td>\n",
       "      <td>0.1374</td>\n",
       "      <td>0.2050</td>\n",
       "      <td>0.4000</td>\n",
       "      <td>0.1625</td>\n",
       "      <td>0.2364</td>\n",
       "      <td>0.07678</td>\n",
       "    </tr>\n",
       "    <tr>\n",
       "      <th>4</th>\n",
       "      <td>843786</td>\n",
       "      <td>M</td>\n",
       "      <td>12.45</td>\n",
       "      <td>15.70</td>\n",
       "      <td>82.57</td>\n",
       "      <td>477.1</td>\n",
       "      <td>0.12780</td>\n",
       "      <td>0.17000</td>\n",
       "      <td>0.1578</td>\n",
       "      <td>0.08089</td>\n",
       "      <td>...</td>\n",
       "      <td>15.47</td>\n",
       "      <td>23.75</td>\n",
       "      <td>103.40</td>\n",
       "      <td>741.6</td>\n",
       "      <td>0.1791</td>\n",
       "      <td>0.5249</td>\n",
       "      <td>0.5355</td>\n",
       "      <td>0.1741</td>\n",
       "      <td>0.3985</td>\n",
       "      <td>0.12440</td>\n",
       "    </tr>\n",
       "  </tbody>\n",
       "</table>\n",
       "<p>5 rows × 32 columns</p>\n",
       "</div>"
      ],
      "text/plain": [
       "     842302  M  17.99  10.38   122.8    1001   0.1184   0.2776  0.3001  \\\n",
       "0    842517  M  20.57  17.77  132.90  1326.0  0.08474  0.07864  0.0869   \n",
       "1  84300903  M  19.69  21.25  130.00  1203.0  0.10960  0.15990  0.1974   \n",
       "2  84348301  M  11.42  20.38   77.58   386.1  0.14250  0.28390  0.2414   \n",
       "3  84358402  M  20.29  14.34  135.10  1297.0  0.10030  0.13280  0.1980   \n",
       "4    843786  M  12.45  15.70   82.57   477.1  0.12780  0.17000  0.1578   \n",
       "\n",
       "    0.1471   ...     25.38  17.33   184.6    2019  0.1622  0.6656  0.7119  \\\n",
       "0  0.07017   ...     24.99  23.41  158.80  1956.0  0.1238  0.1866  0.2416   \n",
       "1  0.12790   ...     23.57  25.53  152.50  1709.0  0.1444  0.4245  0.4504   \n",
       "2  0.10520   ...     14.91  26.50   98.87   567.7  0.2098  0.8663  0.6869   \n",
       "3  0.10430   ...     22.54  16.67  152.20  1575.0  0.1374  0.2050  0.4000   \n",
       "4  0.08089   ...     15.47  23.75  103.40   741.6  0.1791  0.5249  0.5355   \n",
       "\n",
       "   0.2654  0.4601   0.1189  \n",
       "0  0.1860  0.2750  0.08902  \n",
       "1  0.2430  0.3613  0.08758  \n",
       "2  0.2575  0.6638  0.17300  \n",
       "3  0.1625  0.2364  0.07678  \n",
       "4  0.1741  0.3985  0.12440  \n",
       "\n",
       "[5 rows x 32 columns]"
      ]
     },
     "execution_count": 101,
     "metadata": {},
     "output_type": "execute_result"
    }
   ],
   "source": [
    "df.head()"
   ]
  },
  {
   "cell_type": "code",
   "execution_count": 6,
   "metadata": {
    "collapsed": false
   },
   "outputs": [
    {
     "data": {
      "text/plain": [
       "(568, 32)"
      ]
     },
     "execution_count": 6,
     "metadata": {},
     "output_type": "execute_result"
    }
   ],
   "source": [
    "df.shape"
   ]
  },
  {
   "cell_type": "code",
   "execution_count": 105,
   "metadata": {
    "collapsed": true
   },
   "outputs": [],
   "source": [
    "outfile = 'data/wisc_breast_cancer.csv'"
   ]
  },
  {
   "cell_type": "markdown",
   "metadata": {},
   "source": [
    "Save dataset to csv file"
   ]
  },
  {
   "cell_type": "code",
   "execution_count": 106,
   "metadata": {
    "collapsed": false
   },
   "outputs": [],
   "source": [
    "df.to_csv(outfile, index=False)"
   ]
  },
  {
   "cell_type": "markdown",
   "metadata": {},
   "source": [
    "I then added a header row to the file, saved, and now I will read in the complete file with header"
   ]
  },
  {
   "cell_type": "markdown",
   "metadata": {},
   "source": [
    "### Load data into Pyspark dataframe and do analysis"
   ]
  },
  {
   "cell_type": "code",
   "execution_count": 107,
   "metadata": {
    "collapsed": true
   },
   "outputs": [],
   "source": [
    "from pyspark.sql.functions import col # for filtering on columns\n",
    "sc = SparkContext.getOrCreate()\n",
    "sqlCtx = SQLContext(sc)"
   ]
  },
  {
   "cell_type": "code",
   "execution_count": 108,
   "metadata": {
    "collapsed": true
   },
   "outputs": [],
   "source": [
    "infile_w_fields = 'data/wisc_breast_cancer_w_fields.csv'"
   ]
  },
  {
   "cell_type": "code",
   "execution_count": 109,
   "metadata": {
    "collapsed": false
   },
   "outputs": [],
   "source": [
    "brca_w_fields = pd.read_csv(infile_w_fields)"
   ]
  },
  {
   "cell_type": "code",
   "execution_count": 11,
   "metadata": {
    "collapsed": false
   },
   "outputs": [
    {
     "data": {
      "text/html": [
       "<div>\n",
       "<style scoped>\n",
       "    .dataframe tbody tr th:only-of-type {\n",
       "        vertical-align: middle;\n",
       "    }\n",
       "\n",
       "    .dataframe tbody tr th {\n",
       "        vertical-align: top;\n",
       "    }\n",
       "\n",
       "    .dataframe thead th {\n",
       "        text-align: right;\n",
       "    }\n",
       "</style>\n",
       "<table border=\"1\" class=\"dataframe\">\n",
       "  <thead>\n",
       "    <tr style=\"text-align: right;\">\n",
       "      <th></th>\n",
       "      <th>id</th>\n",
       "      <th>diagnosis</th>\n",
       "      <th>f1</th>\n",
       "      <th>f2</th>\n",
       "      <th>f3</th>\n",
       "      <th>f4</th>\n",
       "      <th>f5</th>\n",
       "      <th>f6</th>\n",
       "      <th>f7</th>\n",
       "      <th>f8</th>\n",
       "      <th>...</th>\n",
       "      <th>f21</th>\n",
       "      <th>f22</th>\n",
       "      <th>f23</th>\n",
       "      <th>f24</th>\n",
       "      <th>f25</th>\n",
       "      <th>f26</th>\n",
       "      <th>f27</th>\n",
       "      <th>f28</th>\n",
       "      <th>f29</th>\n",
       "      <th>f30</th>\n",
       "    </tr>\n",
       "  </thead>\n",
       "  <tbody>\n",
       "    <tr>\n",
       "      <th>0</th>\n",
       "      <td>842302</td>\n",
       "      <td>M</td>\n",
       "      <td>17.99</td>\n",
       "      <td>10.38</td>\n",
       "      <td>122.80</td>\n",
       "      <td>1001.0</td>\n",
       "      <td>0.11840</td>\n",
       "      <td>0.27760</td>\n",
       "      <td>0.3001</td>\n",
       "      <td>0.14710</td>\n",
       "      <td>...</td>\n",
       "      <td>25.38</td>\n",
       "      <td>17.33</td>\n",
       "      <td>184.60</td>\n",
       "      <td>2019.0</td>\n",
       "      <td>0.1622</td>\n",
       "      <td>0.6656</td>\n",
       "      <td>0.7119</td>\n",
       "      <td>0.2654</td>\n",
       "      <td>0.4601</td>\n",
       "      <td>0.11890</td>\n",
       "    </tr>\n",
       "    <tr>\n",
       "      <th>1</th>\n",
       "      <td>842517</td>\n",
       "      <td>M</td>\n",
       "      <td>20.57</td>\n",
       "      <td>17.77</td>\n",
       "      <td>132.90</td>\n",
       "      <td>1326.0</td>\n",
       "      <td>0.08474</td>\n",
       "      <td>0.07864</td>\n",
       "      <td>0.0869</td>\n",
       "      <td>0.07017</td>\n",
       "      <td>...</td>\n",
       "      <td>24.99</td>\n",
       "      <td>23.41</td>\n",
       "      <td>158.80</td>\n",
       "      <td>1956.0</td>\n",
       "      <td>0.1238</td>\n",
       "      <td>0.1866</td>\n",
       "      <td>0.2416</td>\n",
       "      <td>0.1860</td>\n",
       "      <td>0.2750</td>\n",
       "      <td>0.08902</td>\n",
       "    </tr>\n",
       "    <tr>\n",
       "      <th>2</th>\n",
       "      <td>84300903</td>\n",
       "      <td>M</td>\n",
       "      <td>19.69</td>\n",
       "      <td>21.25</td>\n",
       "      <td>130.00</td>\n",
       "      <td>1203.0</td>\n",
       "      <td>0.10960</td>\n",
       "      <td>0.15990</td>\n",
       "      <td>0.1974</td>\n",
       "      <td>0.12790</td>\n",
       "      <td>...</td>\n",
       "      <td>23.57</td>\n",
       "      <td>25.53</td>\n",
       "      <td>152.50</td>\n",
       "      <td>1709.0</td>\n",
       "      <td>0.1444</td>\n",
       "      <td>0.4245</td>\n",
       "      <td>0.4504</td>\n",
       "      <td>0.2430</td>\n",
       "      <td>0.3613</td>\n",
       "      <td>0.08758</td>\n",
       "    </tr>\n",
       "    <tr>\n",
       "      <th>3</th>\n",
       "      <td>84348301</td>\n",
       "      <td>M</td>\n",
       "      <td>11.42</td>\n",
       "      <td>20.38</td>\n",
       "      <td>77.58</td>\n",
       "      <td>386.1</td>\n",
       "      <td>0.14250</td>\n",
       "      <td>0.28390</td>\n",
       "      <td>0.2414</td>\n",
       "      <td>0.10520</td>\n",
       "      <td>...</td>\n",
       "      <td>14.91</td>\n",
       "      <td>26.50</td>\n",
       "      <td>98.87</td>\n",
       "      <td>567.7</td>\n",
       "      <td>0.2098</td>\n",
       "      <td>0.8663</td>\n",
       "      <td>0.6869</td>\n",
       "      <td>0.2575</td>\n",
       "      <td>0.6638</td>\n",
       "      <td>0.17300</td>\n",
       "    </tr>\n",
       "    <tr>\n",
       "      <th>4</th>\n",
       "      <td>84358402</td>\n",
       "      <td>M</td>\n",
       "      <td>20.29</td>\n",
       "      <td>14.34</td>\n",
       "      <td>135.10</td>\n",
       "      <td>1297.0</td>\n",
       "      <td>0.10030</td>\n",
       "      <td>0.13280</td>\n",
       "      <td>0.1980</td>\n",
       "      <td>0.10430</td>\n",
       "      <td>...</td>\n",
       "      <td>22.54</td>\n",
       "      <td>16.67</td>\n",
       "      <td>152.20</td>\n",
       "      <td>1575.0</td>\n",
       "      <td>0.1374</td>\n",
       "      <td>0.2050</td>\n",
       "      <td>0.4000</td>\n",
       "      <td>0.1625</td>\n",
       "      <td>0.2364</td>\n",
       "      <td>0.07678</td>\n",
       "    </tr>\n",
       "  </tbody>\n",
       "</table>\n",
       "<p>5 rows × 32 columns</p>\n",
       "</div>"
      ],
      "text/plain": [
       "         id diagnosis     f1     f2      f3      f4       f5       f6      f7  \\\n",
       "0    842302         M  17.99  10.38  122.80  1001.0  0.11840  0.27760  0.3001   \n",
       "1    842517         M  20.57  17.77  132.90  1326.0  0.08474  0.07864  0.0869   \n",
       "2  84300903         M  19.69  21.25  130.00  1203.0  0.10960  0.15990  0.1974   \n",
       "3  84348301         M  11.42  20.38   77.58   386.1  0.14250  0.28390  0.2414   \n",
       "4  84358402         M  20.29  14.34  135.10  1297.0  0.10030  0.13280  0.1980   \n",
       "\n",
       "        f8   ...       f21    f22     f23     f24     f25     f26     f27  \\\n",
       "0  0.14710   ...     25.38  17.33  184.60  2019.0  0.1622  0.6656  0.7119   \n",
       "1  0.07017   ...     24.99  23.41  158.80  1956.0  0.1238  0.1866  0.2416   \n",
       "2  0.12790   ...     23.57  25.53  152.50  1709.0  0.1444  0.4245  0.4504   \n",
       "3  0.10520   ...     14.91  26.50   98.87   567.7  0.2098  0.8663  0.6869   \n",
       "4  0.10430   ...     22.54  16.67  152.20  1575.0  0.1374  0.2050  0.4000   \n",
       "\n",
       "      f28     f29      f30  \n",
       "0  0.2654  0.4601  0.11890  \n",
       "1  0.1860  0.2750  0.08902  \n",
       "2  0.2430  0.3613  0.08758  \n",
       "3  0.2575  0.6638  0.17300  \n",
       "4  0.1625  0.2364  0.07678  \n",
       "\n",
       "[5 rows x 32 columns]"
      ]
     },
     "execution_count": 11,
     "metadata": {},
     "output_type": "execute_result"
    }
   ],
   "source": [
    "brca_w_fields.head()"
   ]
  },
  {
   "cell_type": "markdown",
   "metadata": {},
   "source": [
    "Convert to Spark DataFrame"
   ]
  },
  {
   "cell_type": "code",
   "execution_count": 110,
   "metadata": {
    "collapsed": false
   },
   "outputs": [],
   "source": [
    "brca_df = sqlCtx.createDataFrame(brca_w_fields)"
   ]
  },
  {
   "cell_type": "markdown",
   "metadata": {},
   "source": [
    "Show some rows"
   ]
  },
  {
   "cell_type": "code",
   "execution_count": 10,
   "metadata": {
    "collapsed": false
   },
   "outputs": [
    {
     "name": "stdout",
     "output_type": "stream",
     "text": [
      "+------+---------+-----+-----+-----+------+-------+-------+------+-------------------+------+--------------------+------+------+-----+-----+--------+--------------------+-------------------+-------+--------------------+--------+-----+-----+-----+------+------+------+------+-------------------+------+-------+\n",
      "|    id|diagnosis|   f1|   f2|   f3|    f4|     f5|     f6|    f7|                 f8|    f9|                 f10|   f11|   f12|  f13|  f14|     f15|                 f16|                f17|    f18|                 f19|     f20|  f21|  f22|  f23|   f24|   f25|   f26|   f27|                f28|   f29|    f30|\n",
      "+------+---------+-----+-----+-----+------+-------+-------+------+-------------------+------+--------------------+------+------+-----+-----+--------+--------------------+-------------------+-------+--------------------+--------+-----+-----+-----+------+------+------+------+-------------------+------+-------+\n",
      "|842302|        M|17.99|10.38|122.8|1001.0| 0.1184| 0.2776|0.3001|             0.1471|0.2419|             0.07871| 1.095|0.9053|8.589|153.4|0.006399|             0.04904|0.05372999999999999|0.01587|             0.03003|0.006193|25.38|17.33|184.6|2019.0|0.1622|0.6656|0.7119|             0.2654|0.4601| 0.1189|\n",
      "|842517|        M|20.57|17.77|132.9|1326.0|0.08474|0.07864|0.0869|0.07017000000000001|0.1812|0.056670000000000005|0.5435|0.7339|3.398|74.08|0.005225|0.013080000000000001|             0.0186| 0.0134|0.013890000000000001|0.003532|24.99|23.41|158.8|1956.0|0.1238|0.1866|0.2416|0.18600000000000003| 0.275|0.08902|\n",
      "+------+---------+-----+-----+-----+------+-------+-------+------+-------------------+------+--------------------+------+------+-----+-----+--------+--------------------+-------------------+-------+--------------------+--------+-----+-----+-----+------+------+------+------+-------------------+------+-------+\n",
      "only showing top 2 rows\n",
      "\n"
     ]
    }
   ],
   "source": [
    "brca_df.show(2)"
   ]
  },
  {
   "cell_type": "markdown",
   "metadata": {},
   "source": [
    "There are several columns, and it's a litle hard to read them all together. Select a few important fields."
   ]
  },
  {
   "cell_type": "code",
   "execution_count": 110,
   "metadata": {
    "collapsed": false
   },
   "outputs": [
    {
     "name": "stdout",
     "output_type": "stream",
     "text": [
      "+--------+---------+-----+\n",
      "|      id|diagnosis|   f1|\n",
      "+--------+---------+-----+\n",
      "|  842302|        M|17.99|\n",
      "|  842517|        M|20.57|\n",
      "|84300903|        M|19.69|\n",
      "|84348301|        M|11.42|\n",
      "|84358402|        M|20.29|\n",
      "+--------+---------+-----+\n",
      "only showing top 5 rows\n",
      "\n"
     ]
    }
   ],
   "source": [
    "brca_df.select(['id','diagnosis','f1']).show(5)"
   ]
  },
  {
   "cell_type": "code",
   "execution_count": 111,
   "metadata": {
    "collapsed": false
   },
   "outputs": [
    {
     "data": {
      "text/plain": [
       "569"
      ]
     },
     "execution_count": 111,
     "metadata": {},
     "output_type": "execute_result"
    }
   ],
   "source": [
    "brca_df.count()"
   ]
  },
  {
   "cell_type": "code",
   "execution_count": 112,
   "metadata": {
    "collapsed": false
   },
   "outputs": [
    {
     "data": {
      "text/plain": [
       "['id',\n",
       " 'diagnosis',\n",
       " 'f1',\n",
       " 'f2',\n",
       " 'f3',\n",
       " 'f4',\n",
       " 'f5',\n",
       " 'f6',\n",
       " 'f7',\n",
       " 'f8',\n",
       " 'f9',\n",
       " 'f10',\n",
       " 'f11',\n",
       " 'f12',\n",
       " 'f13',\n",
       " 'f14',\n",
       " 'f15',\n",
       " 'f16',\n",
       " 'f17',\n",
       " 'f18',\n",
       " 'f19',\n",
       " 'f20',\n",
       " 'f21',\n",
       " 'f22',\n",
       " 'f23',\n",
       " 'f24',\n",
       " 'f25',\n",
       " 'f26',\n",
       " 'f27',\n",
       " 'f28',\n",
       " 'f29',\n",
       " 'f30']"
      ]
     },
     "execution_count": 112,
     "metadata": {},
     "output_type": "execute_result"
    }
   ],
   "source": [
    "brca_df.columns"
   ]
  },
  {
   "cell_type": "code",
   "execution_count": 17,
   "metadata": {
    "collapsed": false
   },
   "outputs": [
    {
     "name": "stdout",
     "output_type": "stream",
     "text": [
      "+---------+-----+\n",
      "|diagnosis|count|\n",
      "+---------+-----+\n",
      "|        B|  357|\n",
      "|        M|  212|\n",
      "+---------+-----+\n",
      "\n"
     ]
    }
   ],
   "source": [
    "# On diagnosis, compute frequency distribution\n",
    "brca_df.groupBy(\"diagnosis\").count().show()"
   ]
  },
  {
   "cell_type": "code",
   "execution_count": 113,
   "metadata": {
    "collapsed": false
   },
   "outputs": [
    {
     "name": "stdout",
     "output_type": "stream",
     "text": [
      "root\n",
      " |-- id: long (nullable = true)\n",
      " |-- diagnosis: string (nullable = true)\n",
      " |-- f1: double (nullable = true)\n",
      " |-- f2: double (nullable = true)\n",
      " |-- f3: double (nullable = true)\n",
      " |-- f4: double (nullable = true)\n",
      " |-- f5: double (nullable = true)\n",
      " |-- f6: double (nullable = true)\n",
      " |-- f7: double (nullable = true)\n",
      " |-- f8: double (nullable = true)\n",
      " |-- f9: double (nullable = true)\n",
      " |-- f10: double (nullable = true)\n",
      " |-- f11: double (nullable = true)\n",
      " |-- f12: double (nullable = true)\n",
      " |-- f13: double (nullable = true)\n",
      " |-- f14: double (nullable = true)\n",
      " |-- f15: double (nullable = true)\n",
      " |-- f16: double (nullable = true)\n",
      " |-- f17: double (nullable = true)\n",
      " |-- f18: double (nullable = true)\n",
      " |-- f19: double (nullable = true)\n",
      " |-- f20: double (nullable = true)\n",
      " |-- f21: double (nullable = true)\n",
      " |-- f22: double (nullable = true)\n",
      " |-- f23: double (nullable = true)\n",
      " |-- f24: double (nullable = true)\n",
      " |-- f25: double (nullable = true)\n",
      " |-- f26: double (nullable = true)\n",
      " |-- f27: double (nullable = true)\n",
      " |-- f28: double (nullable = true)\n",
      " |-- f29: double (nullable = true)\n",
      " |-- f30: double (nullable = true)\n",
      "\n"
     ]
    }
   ],
   "source": [
    "brca_df.printSchema()"
   ]
  },
  {
   "cell_type": "code",
   "execution_count": 114,
   "metadata": {
    "collapsed": false
   },
   "outputs": [
    {
     "name": "stdout",
     "output_type": "stream",
     "text": [
      "+---------+-----+\n",
      "|diagnosis|   f1|\n",
      "+---------+-----+\n",
      "|        M|17.99|\n",
      "|        M|20.57|\n",
      "|        M|19.69|\n",
      "+---------+-----+\n",
      "only showing top 3 rows\n",
      "\n"
     ]
    }
   ],
   "source": [
    "brca_df.select(['diagnosis','f1']).show(3)"
   ]
  },
  {
   "cell_type": "markdown",
   "metadata": {},
   "source": [
    "Minimum of field 'f1'"
   ]
  },
  {
   "cell_type": "code",
   "execution_count": 115,
   "metadata": {
    "collapsed": false
   },
   "outputs": [
    {
     "data": {
      "text/plain": [
       "6.981"
      ]
     },
     "execution_count": 115,
     "metadata": {},
     "output_type": "execute_result"
    }
   ],
   "source": [
    "brca_df.agg({\"f1\": \"min\"}).collect()[0][0]"
   ]
  },
  {
   "cell_type": "markdown",
   "metadata": {
    "collapsed": true
   },
   "source": [
    "**QUESTIONS FOR PART 1 (EACH WORTH 1 POINT FOR 5 TOTAL POSSIBLE PTS)**"
   ]
  },
  {
   "cell_type": "markdown",
   "metadata": {
    "collapsed": true
   },
   "source": [
    "1a. Select and show first 10 rows of data from fields ‘diagnosis,’f1’"
   ]
  },
  {
   "cell_type": "code",
   "execution_count": 11,
   "metadata": {
    "collapsed": false
   },
   "outputs": [
    {
     "name": "stdout",
     "output_type": "stream",
     "text": [
      "+---------+-----+\n",
      "|diagnosis|   f1|\n",
      "+---------+-----+\n",
      "|        M|17.99|\n",
      "|        M|20.57|\n",
      "|        M|19.69|\n",
      "|        M|11.42|\n",
      "|        M|20.29|\n",
      "|        M|12.45|\n",
      "|        M|18.25|\n",
      "|        M|13.71|\n",
      "|        M| 13.0|\n",
      "|        M|12.46|\n",
      "+---------+-----+\n",
      "only showing top 10 rows\n",
      "\n"
     ]
    }
   ],
   "source": [
    "brca_df.select(['diagnosis','f1']).show(10)"
   ]
  },
  {
   "cell_type": "markdown",
   "metadata": {},
   "source": [
    "1b. Create dataframe df2 which contains only records where f1 > 20  \n",
    "    Print the number of records in df2"
   ]
  },
  {
   "cell_type": "code",
   "execution_count": 12,
   "metadata": {
    "collapsed": false
   },
   "outputs": [
    {
     "name": "stdout",
     "output_type": "stream",
     "text": [
      "45\n"
     ]
    }
   ],
   "source": [
    "df2=brca_df.where(brca_df.f1>20).count()\n",
    "print(df2)\n"
   ]
  },
  {
   "cell_type": "markdown",
   "metadata": {},
   "source": [
    "All remaining parts to Question 1 are based on the *brca_df* dataframe"
   ]
  },
  {
   "cell_type": "markdown",
   "metadata": {},
   "source": [
    "1c. Compute max on column f1"
   ]
  },
  {
   "cell_type": "code",
   "execution_count": 13,
   "metadata": {
    "collapsed": false
   },
   "outputs": [
    {
     "data": {
      "text/plain": [
       "28.11"
      ]
     },
     "execution_count": 13,
     "metadata": {},
     "output_type": "execute_result"
    }
   ],
   "source": [
    "brca_df.agg({\"f1\": \"max\"}).collect()[0][0]"
   ]
  },
  {
   "cell_type": "markdown",
   "metadata": {
    "collapsed": true
   },
   "source": [
    "1d. Show a summary on the fields: diagnosis, f1, f2  \n",
    "hint: use describe()"
   ]
  },
  {
   "cell_type": "code",
   "execution_count": 14,
   "metadata": {
    "collapsed": false
   },
   "outputs": [
    {
     "name": "stdout",
     "output_type": "stream",
     "text": [
      "+-------+---------+------------------+-----------------+\n",
      "|summary|diagnosis|                f1|               f2|\n",
      "+-------+---------+------------------+-----------------+\n",
      "|  count|      569|               569|              569|\n",
      "|   mean|     null|14.127291739894552|19.28964850615114|\n",
      "| stddev|     null| 3.524048826212077| 4.30103576816695|\n",
      "|    min|        B|             6.981|             9.71|\n",
      "|    max|        M|             28.11|            39.28|\n",
      "+-------+---------+------------------+-----------------+\n",
      "\n"
     ]
    }
   ],
   "source": [
    "brca_df.describe('diagnosis','f1','f2').show()"
   ]
  },
  {
   "cell_type": "markdown",
   "metadata": {},
   "source": [
    "1e. Create a new field called f1sq which is the square of f1, and print the first 10 rows of the dataframe"
   ]
  },
  {
   "cell_type": "code",
   "execution_count": 50,
   "metadata": {
    "collapsed": false
   },
   "outputs": [
    {
     "name": "stdout",
     "output_type": "stream",
     "text": [
      "+--------+---------+-----+-----+-----+------+-------------------+-------+-------------------+-------------------+------+--------------------+------+------------------+------------------+-----+--------------------+--------------------+--------------------+--------------------+--------------------+--------+-----+-----+-----+------+------+------+------+-------------------+------+-------------------+------------------+\n",
      "|      id|diagnosis|   f1|   f2|   f3|    f4|                 f5|     f6|                 f7|                 f8|    f9|                 f10|   f11|               f12|               f13|  f14|                 f15|                 f16|                 f17|                 f18|                 f19|     f20|  f21|  f22|  f23|   f24|   f25|   f26|   f27|                f28|   f29|                f30|              flsq|\n",
      "+--------+---------+-----+-----+-----+------+-------------------+-------+-------------------+-------------------+------+--------------------+------+------------------+------------------+-----+--------------------+--------------------+--------------------+--------------------+--------------------+--------+-----+-----+-----+------+------+------+------+-------------------+------+-------------------+------------------+\n",
      "|  842302|        M|17.99|10.38|122.8|1001.0|             0.1184| 0.2776|             0.3001|             0.1471|0.2419|             0.07871| 1.095|            0.9053|             8.589|153.4|            0.006399|             0.04904| 0.05372999999999999|             0.01587|             0.03003|0.006193|25.38|17.33|184.6|2019.0|0.1622|0.6656|0.7119|             0.2654|0.4601|             0.1189|323.64009999999996|\n",
      "|  842517|        M|20.57|17.77|132.9|1326.0|            0.08474|0.07864|             0.0869|0.07017000000000001|0.1812|0.056670000000000005|0.5435|            0.7339|             3.398|74.08|            0.005225|0.013080000000000001|              0.0186|              0.0134|0.013890000000000001|0.003532|24.99|23.41|158.8|1956.0|0.1238|0.1866|0.2416|0.18600000000000003| 0.275|            0.08902|          423.1249|\n",
      "|84300903|        M|19.69|21.25|130.0|1203.0|             0.1096| 0.1599|             0.1974|             0.1279|0.2069|0.059989999999999995|0.7456|            0.7869|             4.585|94.03|             0.00615|0.040060000000000005|             0.03832|             0.02058|              0.0225|0.004571|23.57|25.53|152.5|1709.0|0.1444|0.4245|0.4504|              0.243|0.3613|0.08757999999999999|387.69610000000006|\n",
      "|84348301|        M|11.42|20.38|77.58| 386.1|             0.1425| 0.2839|             0.2414|             0.1052|0.2597|             0.09744|0.4956|             1.156|             3.445|27.23|             0.00911|             0.07458|             0.05661|             0.01867|0.059629999999999996|0.009208|14.91| 26.5|98.87| 567.7|0.2098|0.8663|0.6869|             0.2575|0.6638|0.17300000000000001|          130.4164|\n",
      "|84358402|        M|20.29|14.34|135.1|1297.0|             0.1003| 0.1328|              0.198|             0.1043|0.1809| 0.05882999999999999|0.7572|            0.7813|             5.438|94.44|             0.01149|             0.02461| 0.05687999999999999|             0.01885|             0.01756|0.005115|22.54|16.67|152.2|1575.0|0.1374| 0.205|   0.4|             0.1625|0.2364|            0.07678|411.68409999999994|\n",
      "|  843786|        M|12.45| 15.7|82.57| 477.1|             0.1278|   0.17|             0.1578|            0.08089|0.2087| 0.07612999999999999|0.3345|            0.8902|             2.217|27.19|0.007509999999999999|             0.03345|0.036719999999999996|             0.01137|             0.02165|0.005082|15.47|23.75|103.4| 741.6|0.1791|0.5249|0.5355|             0.1741|0.3985|             0.1244|155.00249999999997|\n",
      "|  844359|        M|18.25|19.98|119.6|1040.0|0.09462999999999999|  0.109|             0.1127|0.07400000000000001|0.1794|0.057420000000000006|0.4467|            0.7732|              3.18|53.91|            0.004314|0.013819999999999999|             0.02254|             0.01039|             0.01369|0.002179|22.88|27.66|153.2|1606.0|0.1442|0.2576|0.3784|             0.1932|0.3063|0.08367999999999999|          333.0625|\n",
      "|84458202|        M|13.71|20.83| 90.2| 577.9|             0.1189| 0.1645|0.09366000000000001|            0.05985|0.2196|             0.07451|0.5835|1.3769999999999998|3.8560000000000003|50.96|            0.008805|0.030289999999999997|0.024880000000000003|0.014480000000000002|             0.01486|0.005412|17.06|28.14|110.6| 897.0|0.1654|0.3682|0.2678|             0.1556|0.3196|             0.1151|187.96410000000003|\n",
      "|  844981|        M| 13.0|21.82| 87.5| 519.8|             0.1273| 0.1932|             0.1859|            0.09353| 0.235|             0.07389|0.3063|             1.002|             2.406|24.32|            0.005731|0.035019999999999996|             0.03553|             0.01226|             0.02143|0.003749|15.49|30.73|106.2| 739.3|0.1703|0.5401| 0.539|0.20600000000000002|0.4378|             0.1072|             169.0|\n",
      "|84501001|        M|12.46|24.04|83.97| 475.9|             0.1186| 0.2396|             0.2273|0.08542999999999999| 0.203| 0.08242999999999999|0.2976|             1.599|             2.039|23.94|0.007148999999999999|             0.07217|             0.07743|             0.01432|             0.01789| 0.01008|15.09|40.68|97.65| 711.4|0.1853| 1.058| 1.105|              0.221|0.4366|             0.2075|155.25160000000002|\n",
      "+--------+---------+-----+-----+-----+------+-------------------+-------+-------------------+-------------------+------+--------------------+------+------------------+------------------+-----+--------------------+--------------------+--------------------+--------------------+--------------------+--------+-----+-----+-----+------+------+------+------+-------------------+------+-------------------+------------------+\n",
      "only showing top 10 rows\n",
      "\n"
     ]
    }
   ],
   "source": [
    "df3=brca_df.withColumn('flsq',brca_df.f1**2).show(10)"
   ]
  },
  {
   "cell_type": "markdown",
   "metadata": {},
   "source": [
    "### PART II: (Classification Task) Run the cells below, fill in the missing steps, and answer questions about the data  "
   ]
  },
  {
   "cell_type": "markdown",
   "metadata": {},
   "source": [
    "INSTRUCTIONS AND QUESTIONS COMING SOON"
   ]
  },
  {
   "cell_type": "code",
   "execution_count": 112,
   "metadata": {
    "collapsed": true
   },
   "outputs": [],
   "source": [
    "# load modules\n",
    "from pyspark.mllib.classification import LogisticRegressionWithLBFGS, LogisticRegressionModel\n",
    "from pyspark.mllib.regression import LabeledPoint\n",
    "from pyspark.ml.feature import VectorAssembler \n",
    "from pyspark.mllib.linalg import Vectors"
   ]
  },
  {
   "cell_type": "code",
   "execution_count": 113,
   "metadata": {
    "collapsed": false
   },
   "outputs": [
    {
     "name": "stdout",
     "output_type": "stream",
     "text": [
      "+---------+-----+-----+-----+\n",
      "|diagnosis|   f1|   f2|   f3|\n",
      "+---------+-----+-----+-----+\n",
      "|        M|17.99|10.38|122.8|\n",
      "|        M|20.57|17.77|132.9|\n",
      "+---------+-----+-----+-----+\n",
      "only showing top 2 rows\n",
      "\n"
     ]
    }
   ],
   "source": [
    "brca_df.select(['diagnosis','f1','f2','f3']).show(2)"
   ]
  },
  {
   "cell_type": "code",
   "execution_count": 114,
   "metadata": {
    "collapsed": false
   },
   "outputs": [],
   "source": [
    "# Let's package some fields together to be used as features\n",
    "assembler = VectorAssembler( inputCols=[\"f1\", \"f2\", \"f3\"], outputCol=\"features\") "
   ]
  },
  {
   "cell_type": "markdown",
   "metadata": {},
   "source": [
    "Applying transform() will add the *features* column to the dataframe"
   ]
  },
  {
   "cell_type": "code",
   "execution_count": 115,
   "metadata": {
    "collapsed": false
   },
   "outputs": [],
   "source": [
    "transformed = assembler.transform(brca_df)"
   ]
  },
  {
   "cell_type": "code",
   "execution_count": 116,
   "metadata": {
    "collapsed": false
   },
   "outputs": [
    {
     "name": "stdout",
     "output_type": "stream",
     "text": [
      "+---------+-------------------+\n",
      "|diagnosis|           features|\n",
      "+---------+-------------------+\n",
      "|        M|[17.99,10.38,122.8]|\n",
      "|        M|[20.57,17.77,132.9]|\n",
      "+---------+-------------------+\n",
      "only showing top 2 rows\n",
      "\n"
     ]
    }
   ],
   "source": [
    "transformed.select([\"diagnosis\", \"features\"]).show(2)"
   ]
  },
  {
   "cell_type": "code",
   "execution_count": 20,
   "metadata": {
    "collapsed": false
   },
   "outputs": [],
   "source": [
    "# convert to RDD\n",
    "dataRdd = transformed.select([\"diagnosis\",\"features\"]).rdd.map(tuple)"
   ]
  },
  {
   "cell_type": "code",
   "execution_count": 117,
   "metadata": {
    "collapsed": false
   },
   "outputs": [
    {
     "data": {
      "text/plain": [
       "[(u'M', DenseVector([17.99, 10.38, 122.8])),\n",
       " (u'M', DenseVector([20.57, 17.77, 132.9]))]"
      ]
     },
     "execution_count": 117,
     "metadata": {},
     "output_type": "execute_result"
    }
   ],
   "source": [
    "# Look at some data\n",
    "dataRdd.take(2)"
   ]
  },
  {
   "cell_type": "markdown",
   "metadata": {},
   "source": [
    "#### Get data into proper format for modeling:  \n",
    "Map label to binary values, then convert to LabeledPoint  \n",
    "\n",
    "LabeledPoint uses value=0 for negative labels, value=1 for positive labels"
   ]
  },
  {
   "cell_type": "code",
   "execution_count": 118,
   "metadata": {
    "collapsed": false
   },
   "outputs": [],
   "source": [
    "lp = dataRdd.map(lambda row : (1 if row[0]=='M' else 0, Vectors.dense(row[1])))    \\\n",
    "            .map(lambda row : LabeledPoint(row[0], row[1]))"
   ]
  },
  {
   "cell_type": "code",
   "execution_count": 119,
   "metadata": {
    "collapsed": false
   },
   "outputs": [
    {
     "data": {
      "text/plain": [
       "[LabeledPoint(1.0, [17.99,10.38,122.8]),\n",
       " LabeledPoint(1.0, [20.57,17.77,132.9])]"
      ]
     },
     "execution_count": 119,
     "metadata": {},
     "output_type": "execute_result"
    }
   ],
   "source": [
    "lp.take(2)"
   ]
  },
  {
   "cell_type": "markdown",
   "metadata": {
    "collapsed": true
   },
   "source": [
    "**Split data approximately into training (60%) and test (40%)**"
   ]
  },
  {
   "cell_type": "code",
   "execution_count": 120,
   "metadata": {
    "collapsed": false
   },
   "outputs": [],
   "source": [
    "#training=lp.randomSplit([0.6,0.4],seed=314)[0]\n",
    "#test=lp.randomSplit([0.6,0.4],seed=314)[1]\n",
    "#training.cache()\n",
    "training,test=lp.randomSplit([0.6,0.4],seed=314)"
   ]
  },
  {
   "cell_type": "code",
   "execution_count": 121,
   "metadata": {
    "collapsed": false
   },
   "outputs": [
    {
     "data": {
      "text/plain": [
       "(0.6344463971880492, 0.3655536028119508, 1.0)"
      ]
     },
     "execution_count": 121,
     "metadata": {},
     "output_type": "execute_result"
    }
   ],
   "source": [
    "(1.0 * training.count()/lp.count(), 1.0 * test.count()/lp.count(), 1.0 * lp.count()/lp.count())"
   ]
  },
  {
   "cell_type": "markdown",
   "metadata": {},
   "source": [
    "**Build the Logistic Regression Model**"
   ]
  },
  {
   "cell_type": "code",
   "execution_count": 132,
   "metadata": {
    "collapsed": false
   },
   "outputs": [],
   "source": [
    "from pyspark.mllib.classification import LogisticRegressionWithLBFGS, LogisticRegressionModel\n",
    "from pyspark.mllib.regression import LabeledPoint\n",
    "model = LogisticRegressionWithLBFGS.train(training)"
   ]
  },
  {
   "cell_type": "markdown",
   "metadata": {},
   "source": [
    "**For the test set, use map() to compute predictions by calling predict() on the model**"
   ]
  },
  {
   "cell_type": "code",
   "execution_count": 133,
   "metadata": {
    "collapsed": false
   },
   "outputs": [],
   "source": [
    "labelsAndPreds=test.map(lambda p: (p.label, model.predict(p.features)))"
   ]
  },
  {
   "cell_type": "markdown",
   "metadata": {},
   "source": [
    "**Compute the accuracy**"
   ]
  },
  {
   "cell_type": "code",
   "execution_count": 134,
   "metadata": {
    "collapsed": false
   },
   "outputs": [
    {
     "name": "stdout",
     "output_type": "stream",
     "text": [
      "model accuracy 0.668269230769\n"
     ]
    }
   ],
   "source": [
    "accuracy = 1.0 * labelsAndPreds.filter(lambda pl: pl[0] == pl[1]).count() / test.count()\n",
    "print('model accuracy {}'.format(accuracy))\n"
   ]
  },
  {
   "cell_type": "code",
   "execution_count": 135,
   "metadata": {
    "collapsed": false
   },
   "outputs": [
    {
     "data": {
      "text/plain": [
       "DenseMatrix(2, 2, [97.0, 28.0, 41.0, 42.0], 0)"
      ]
     },
     "execution_count": 135,
     "metadata": {},
     "output_type": "execute_result"
    }
   ],
   "source": [
    "from pyspark.mllib.classification import LogisticRegressionWithLBFGS\n",
    "from pyspark.mllib.util import MLUtils\n",
    "from pyspark.mllib.evaluation import MulticlassMetrics\n",
    "predictionAndLabels = test.map(lambda lp: (float(model.predict(lp.features)), lp.label))\n",
    "metrics = MulticlassMetrics(predictionAndLabels)\n",
    "metrics.confusionMatrix()"
   ]
  },
  {
   "cell_type": "markdown",
   "metadata": {},
   "source": [
    "**QUESTIONS FOR PART 2  \n",
    "POINT VALUES: 1 point for script, 1 point for each part 1-4. TOTAL POSSIBLE PTS = 5**"
   ]
  },
  {
   "cell_type": "markdown",
   "metadata": {},
   "source": [
    "You will make modifications to the code above in PART II and rerun the code, collecting results.\n",
    "\n",
    "At first, make the changes in this notebook.\n",
    "Next you will write script to run the whole workflow.\n",
    "Test it to be sure it works, and submit as part of the assignment. You will want the script to take arguments for intercept (1=yes, 0=no, for example)\n",
    "\n",
    "The following experiments should be conducted:\n",
    "\n",
    "We used three features in our model. Build the model using features f1, f2, f3, f4, f5.\n",
    "Then compute the accuracy and confusion matrix on the test set.\n",
    "Repeat step (1), including an intercept\n",
    "Repeat step (1), using 70%/30% train/test split with seed=314.\n",
    "Repeat step (2), using 70%/30% train/test split with seed=314.\n",
    "\n",
    "**Please clearly summarize all results at the end of the notebook.  \n",
    "You can modify the code below to start organizing the results into a pandas dataframe**"
   ]
  },
  {
   "cell_type": "markdown",
   "metadata": {},
   "source": [
    "1. First Method"
   ]
  },
  {
   "cell_type": "code",
   "execution_count": 125,
   "metadata": {
    "collapsed": false
   },
   "outputs": [
    {
     "data": {
      "text/plain": [
       "(0.6344463971880492, 0.3655536028119508, 1.0)"
      ]
     },
     "execution_count": 125,
     "metadata": {},
     "output_type": "execute_result"
    }
   ],
   "source": [
    "#brca_df.select(['diagnosis','f1','f2','f3','f4','f5']).show(2)\n",
    "assembler1 = VectorAssembler( inputCols=[\"f1\", \"f2\", \"f3\",'f4','f5'], outputCol=\"features\")\n",
    "transformed1 = assembler1.transform(brca_df)\n",
    "#transformed.select([\"diagnosis\", \"features\"]).show(2)\n",
    "# convert to RDD\n",
    "dataRdd1 = transformed1.select([\"diagnosis\",\"features\"]).rdd.map(tuple)\n",
    "# Look at some data\n",
    "#dataRdd1.take(2)\n",
    "lp1 = dataRdd1.map(lambda row : (1 if row[0]=='M' else 0, Vectors.dense(row[1])))    \\\n",
    "            .map(lambda row : LabeledPoint(row[0], row[1]))\n",
    "#lp1.take(2)\n",
    "training1,test1=lp1.randomSplit([0.6,0.4],seed=314)\n",
    "(1.0 * training1.count()/lp1.count(), 1.0 * test1.count()/lp1.count(), 1.0 * lp1.count()/lp1.count())\n"
   ]
  },
  {
   "cell_type": "code",
   "execution_count": 126,
   "metadata": {
    "collapsed": true
   },
   "outputs": [],
   "source": [
    "from pyspark.mllib.classification import LogisticRegressionWithLBFGS, LogisticRegressionModel\n",
    "from pyspark.mllib.regression import LabeledPoint\n",
    "model1 = LogisticRegressionWithLBFGS.train(training1)"
   ]
  },
  {
   "cell_type": "code",
   "execution_count": 127,
   "metadata": {
    "collapsed": false
   },
   "outputs": [
    {
     "name": "stdout",
     "output_type": "stream",
     "text": [
      "model accuracy 0.903846153846\n"
     ]
    }
   ],
   "source": [
    "labelsAndPreds1=test1.map(lambda p: (p.label, model1.predict(p.features)))\n",
    "accuracy1 = 1.0 * labelsAndPreds1.filter(lambda pl: pl[0] == pl[1]).count() / test1.count()\n",
    "print('model accuracy {}'.format(accuracy1))"
   ]
  },
  {
   "cell_type": "code",
   "execution_count": 101,
   "metadata": {
    "collapsed": false
   },
   "outputs": [
    {
     "data": {
      "text/plain": [
       "DenseMatrix(2, 2, [135.0, 17.0, 3.0, 53.0], 0)"
      ]
     },
     "execution_count": 101,
     "metadata": {},
     "output_type": "execute_result"
    }
   ],
   "source": [
    "from pyspark.mllib.classification import LogisticRegressionWithLBFGS\n",
    "from pyspark.mllib.util import MLUtils\n",
    "from pyspark.mllib.evaluation import MulticlassMetrics\n",
    "\n",
    "predictionAndLabels1 = test1.map(lambda lp: (float(model1.predict(lp.features)), lp.label))\n",
    "\n",
    "# Instantiate metrics object\n",
    "metrics1 = MulticlassMetrics(predictionAndLabels1)\n",
    "metrics1.confusionMatrix()"
   ]
  },
  {
   "cell_type": "markdown",
   "metadata": {},
   "source": [
    "2. Second Method(with intercept)"
   ]
  },
  {
   "cell_type": "code",
   "execution_count": 138,
   "metadata": {
    "collapsed": false
   },
   "outputs": [
    {
     "data": {
      "text/plain": [
       "(0.6344463971880492, 0.3655536028119508, 1.0)"
      ]
     },
     "execution_count": 138,
     "metadata": {},
     "output_type": "execute_result"
    }
   ],
   "source": [
    "#brca_df.select(['diagnosis','f1','f2','f3','f4','f5']).show(2)\n",
    "assembler2 = VectorAssembler( inputCols=[\"f1\", \"f2\", \"f3\",'f4','f5'], outputCol=\"features\")\n",
    "transformed2 = assembler2.transform(brca_df)\n",
    "#transformed2.select([\"diagnosis\", \"features\"]).show(2)\n",
    "# convert to RDD\n",
    "dataRdd2 = transformed2.select([\"diagnosis\",\"features\"]).rdd.map(tuple)\n",
    "# Look at some data\n",
    "#dataRdd2.take(2)\n",
    "lp2 = dataRdd2.map(lambda row : (1 if row[0]=='M' else 0, Vectors.dense(row[1])))    \\\n",
    "            .map(lambda row : LabeledPoint(row[0], row[1]))\n",
    "#lp2.take(2)\n",
    "training2,test2=lp2.randomSplit([0.6,0.4],seed=314)\n",
    "(1.0 * training2.count()/lp2.count(), 1.0 * test2.count()/lp2.count(), 1.0 * lp2.count()/lp2.count())"
   ]
  },
  {
   "cell_type": "code",
   "execution_count": 140,
   "metadata": {
    "collapsed": false
   },
   "outputs": [],
   "source": [
    "from pyspark.mllib.classification import LogisticRegressionWithLBFGS, LogisticRegressionModel\n",
    "from pyspark.mllib.regression import LabeledPoint\n",
    "model2 = LogisticRegressionWithLBFGS.train(training2,intercept=True)"
   ]
  },
  {
   "cell_type": "code",
   "execution_count": 141,
   "metadata": {
    "collapsed": false
   },
   "outputs": [
    {
     "name": "stdout",
     "output_type": "stream",
     "text": [
      "model accuracy 0.927884615385\n"
     ]
    }
   ],
   "source": [
    "labelsAndPreds2=test2.map(lambda p: (p.label, model2.predict(p.features)))\n",
    "accuracy2 = 1.0 * labelsAndPreds2.filter(lambda pl: pl[0] == pl[1]).count() / test2.count()\n",
    "print('model accuracy {}'.format(accuracy2))"
   ]
  },
  {
   "cell_type": "code",
   "execution_count": 142,
   "metadata": {
    "collapsed": false
   },
   "outputs": [
    {
     "data": {
      "text/plain": [
       "DenseMatrix(2, 2, [137.0, 14.0, 1.0, 56.0], 0)"
      ]
     },
     "execution_count": 142,
     "metadata": {},
     "output_type": "execute_result"
    }
   ],
   "source": [
    "from pyspark.mllib.classification import LogisticRegressionWithLBFGS\n",
    "from pyspark.mllib.util import MLUtils\n",
    "from pyspark.mllib.evaluation import MulticlassMetrics\n",
    "\n",
    "predictionAndLabels2 = test2.map(lambda lp: (float(model2.predict(lp.features)), lp.label))\n",
    "\n",
    "# Instantiate metrics object\n",
    "metrics2 = MulticlassMetrics(predictionAndLabels2)\n",
    "metrics2.confusionMatrix()"
   ]
  },
  {
   "cell_type": "markdown",
   "metadata": {},
   "source": [
    "3. Third Method, change training and test to 70% and 30% with all features"
   ]
  },
  {
   "cell_type": "code",
   "execution_count": 176,
   "metadata": {
    "collapsed": false
   },
   "outputs": [
    {
     "data": {
      "text/plain": [
       "(0.7117750439367311, 0.28822495606326887, 1.0)"
      ]
     },
     "execution_count": 176,
     "metadata": {},
     "output_type": "execute_result"
    }
   ],
   "source": [
    "#brca_df.select(['diagnosis','f1','f2','f3','f4','f5']).show(2)\n",
    "assembler3 = VectorAssembler( inputCols=['f1','f2','f3','f4','f5'], outputCol=\"features\")\n",
    "transformed3 = assembler3.transform(brca_df)\n",
    "#transformed3.select([\"diagnosis\", \"features\"]).show(2)\n",
    "# convert to RDD\n",
    "dataRdd3 = transformed3.select([\"diagnosis\",\"features\"]).rdd.map(tuple)\n",
    "# Look at some data\n",
    "#dataRdd3.take(2)\n",
    "lp3 = dataRdd3.map(lambda row : (1 if row[0]=='M' else 0, Vectors.dense(row[1])))    \\\n",
    "            .map(lambda row : LabeledPoint(row[0], row[1]))\n",
    "#lp3.take(2)\n",
    "training3,test3=lp3.randomSplit([0.7,0.3],seed=314)\n",
    "(1.0 * training3.count()/lp3.count(), 1.0 * test3.count()/lp3.count(), 1.0 * lp3.count()/lp3.count())"
   ]
  },
  {
   "cell_type": "code",
   "execution_count": 177,
   "metadata": {
    "collapsed": true
   },
   "outputs": [],
   "source": [
    "from pyspark.mllib.classification import LogisticRegressionWithLBFGS, LogisticRegressionModel\n",
    "from pyspark.mllib.regression import LabeledPoint\n",
    "model3 = LogisticRegressionWithLBFGS.train(training3, intercept=False)"
   ]
  },
  {
   "cell_type": "code",
   "execution_count": 178,
   "metadata": {
    "collapsed": false
   },
   "outputs": [
    {
     "name": "stdout",
     "output_type": "stream",
     "text": [
      "model accuracy 0.896341463415\n"
     ]
    }
   ],
   "source": [
    "labelsAndPreds3=test3.map(lambda p: (p.label, model3.predict(p.features)))\n",
    "accuracy3 = 1.0 * labelsAndPreds3.filter(lambda pl: pl[0] == pl[1]).count() / test3.count()\n",
    "print('model accuracy {}'.format(accuracy3))"
   ]
  },
  {
   "cell_type": "code",
   "execution_count": 179,
   "metadata": {
    "collapsed": false
   },
   "outputs": [
    {
     "data": {
      "text/plain": [
       "DenseMatrix(2, 2, [106.0, 15.0, 2.0, 41.0], 0)"
      ]
     },
     "execution_count": 179,
     "metadata": {},
     "output_type": "execute_result"
    }
   ],
   "source": [
    "from pyspark.mllib.classification import LogisticRegressionWithLBFGS\n",
    "from pyspark.mllib.util import MLUtils\n",
    "from pyspark.mllib.evaluation import MulticlassMetrics\n",
    "\n",
    "predictionAndLabels3 = test3.map(lambda lp: (float(model3.predict(lp.features)), lp.label))\n",
    "\n",
    "# Instantiate metrics object\n",
    "metrics3 = MulticlassMetrics(predictionAndLabels3)\n",
    "metrics3.confusionMatrix()"
   ]
  },
  {
   "cell_type": "markdown",
   "metadata": {},
   "source": [
    "4. Fourth Method, update Third Methed with intercept"
   ]
  },
  {
   "cell_type": "code",
   "execution_count": 180,
   "metadata": {
    "collapsed": false
   },
   "outputs": [
    {
     "data": {
      "text/plain": [
       "(0.7117750439367311, 0.28822495606326887, 1.0)"
      ]
     },
     "execution_count": 180,
     "metadata": {},
     "output_type": "execute_result"
    }
   ],
   "source": [
    "#brca_df.select(['diagnosis','f1','f2','f3','f4','f5']).show(2)\n",
    "assembler4 = VectorAssembler( inputCols=['f1','f2','f3','f4','f5'], outputCol=\"features\")\n",
    "transformed4 = assembler4.transform(brca_df)\n",
    "#transformed4.select([\"diagnosis\", \"features\"]).show(2)\n",
    "# convert to RDD\n",
    "dataRdd4 = transformed4.select([\"diagnosis\",\"features\"]).rdd.map(tuple)\n",
    "# Look at some data\n",
    "#dataRdd4.take(2)\n",
    "lp4 = dataRdd4.map(lambda row : (1 if row[0]=='M' else 0, Vectors.dense(row[1])))    \\\n",
    "            .map(lambda row : LabeledPoint(row[0], row[1]))\n",
    "#lp4.take(2)\n",
    "training4,test4=lp4.randomSplit([0.7,0.3],seed=314)\n",
    "(1.0 * training4.count()/lp4.count(), 1.0 * test4.count()/lp4.count(), 1.0 * lp4.count()/lp4.count())"
   ]
  },
  {
   "cell_type": "code",
   "execution_count": 181,
   "metadata": {
    "collapsed": false
   },
   "outputs": [],
   "source": [
    "from pyspark.mllib.classification import LogisticRegressionWithLBFGS, LogisticRegressionModel\n",
    "from pyspark.mllib.regression import LabeledPoint\n",
    "model4 = LogisticRegressionWithLBFGS.train(training4, intercept=True)"
   ]
  },
  {
   "cell_type": "code",
   "execution_count": 182,
   "metadata": {
    "collapsed": false
   },
   "outputs": [
    {
     "name": "stdout",
     "output_type": "stream",
     "text": [
      "model accuracy 0.926829268293\n"
     ]
    }
   ],
   "source": [
    "labelsAndPreds4=test4.map(lambda p: (p.label, model4.predict(p.features)))\n",
    "accuracy4 = 1.0 * labelsAndPreds4.filter(lambda pl: pl[0] == pl[1]).count() / test4.count()\n",
    "print('model accuracy {}'.format(accuracy4))"
   ]
  },
  {
   "cell_type": "code",
   "execution_count": 183,
   "metadata": {
    "collapsed": false
   },
   "outputs": [
    {
     "data": {
      "text/plain": [
       "DenseMatrix(2, 2, [107.0, 11.0, 1.0, 45.0], 0)"
      ]
     },
     "execution_count": 183,
     "metadata": {},
     "output_type": "execute_result"
    }
   ],
   "source": [
    "from pyspark.mllib.classification import LogisticRegressionWithLBFGS\n",
    "from pyspark.mllib.util import MLUtils\n",
    "from pyspark.mllib.evaluation import MulticlassMetrics\n",
    "\n",
    "predictionAndLabels4 = test4.map(lambda lp: (float(model4.predict(lp.features)), lp.label))\n",
    "\n",
    "# Instantiate metrics object\n",
    "metrics4 = MulticlassMetrics(predictionAndLabels4)\n",
    "metrics4.confusionMatrix()"
   ]
  },
  {
   "cell_type": "code",
   "execution_count": 62,
   "metadata": {
    "collapsed": false
   },
   "outputs": [
    {
     "data": {
      "text/html": [
       "<div>\n",
       "<style scoped>\n",
       "    .dataframe tbody tr th:only-of-type {\n",
       "        vertical-align: middle;\n",
       "    }\n",
       "\n",
       "    .dataframe tbody tr th {\n",
       "        vertical-align: top;\n",
       "    }\n",
       "\n",
       "    .dataframe thead th {\n",
       "        text-align: right;\n",
       "    }\n",
       "</style>\n",
       "<table border=\"1\" class=\"dataframe\">\n",
       "  <thead>\n",
       "    <tr style=\"text-align: right;\">\n",
       "      <th></th>\n",
       "      <th>method</th>\n",
       "      <th>accuracy</th>\n",
       "      <th>truepos</th>\n",
       "      <th>trueneg</th>\n",
       "      <th>falsepos</th>\n",
       "      <th>falseneg</th>\n",
       "    </tr>\n",
       "  </thead>\n",
       "  <tbody>\n",
       "    <tr>\n",
       "      <th>1</th>\n",
       "      <td>NaN</td>\n",
       "      <td>NaN</td>\n",
       "      <td>NaN</td>\n",
       "      <td>NaN</td>\n",
       "      <td>NaN</td>\n",
       "      <td>NaN</td>\n",
       "    </tr>\n",
       "    <tr>\n",
       "      <th>2</th>\n",
       "      <td>NaN</td>\n",
       "      <td>NaN</td>\n",
       "      <td>NaN</td>\n",
       "      <td>NaN</td>\n",
       "      <td>NaN</td>\n",
       "      <td>NaN</td>\n",
       "    </tr>\n",
       "    <tr>\n",
       "      <th>3</th>\n",
       "      <td>NaN</td>\n",
       "      <td>NaN</td>\n",
       "      <td>NaN</td>\n",
       "      <td>NaN</td>\n",
       "      <td>NaN</td>\n",
       "      <td>NaN</td>\n",
       "    </tr>\n",
       "    <tr>\n",
       "      <th>4</th>\n",
       "      <td>NaN</td>\n",
       "      <td>NaN</td>\n",
       "      <td>NaN</td>\n",
       "      <td>NaN</td>\n",
       "      <td>NaN</td>\n",
       "      <td>NaN</td>\n",
       "    </tr>\n",
       "    <tr>\n",
       "      <th>5</th>\n",
       "      <td>NaN</td>\n",
       "      <td>NaN</td>\n",
       "      <td>NaN</td>\n",
       "      <td>NaN</td>\n",
       "      <td>NaN</td>\n",
       "      <td>NaN</td>\n",
       "    </tr>\n",
       "  </tbody>\n",
       "</table>\n",
       "</div>"
      ],
      "text/plain": [
       "  method accuracy truepos trueneg falsepos falseneg\n",
       "1    NaN      NaN     NaN     NaN      NaN      NaN\n",
       "2    NaN      NaN     NaN     NaN      NaN      NaN\n",
       "3    NaN      NaN     NaN     NaN      NaN      NaN\n",
       "4    NaN      NaN     NaN     NaN      NaN      NaN\n",
       "5    NaN      NaN     NaN     NaN      NaN      NaN"
      ]
     },
     "execution_count": 62,
     "metadata": {},
     "output_type": "execute_result"
    }
   ],
   "source": [
    "import pandas as pd\n",
    "out = pd.DataFrame(columns=['method','accuracy','truepos','trueneg','falsepos','falseneg'],index=[1,2,3,4,5])\n",
    "out"
   ]
  },
  {
   "cell_type": "code",
   "execution_count": 185,
   "metadata": {
    "collapsed": false
   },
   "outputs": [
    {
     "data": {
      "text/html": [
       "<div>\n",
       "<style scoped>\n",
       "    .dataframe tbody tr th:only-of-type {\n",
       "        vertical-align: middle;\n",
       "    }\n",
       "\n",
       "    .dataframe tbody tr th {\n",
       "        vertical-align: top;\n",
       "    }\n",
       "\n",
       "    .dataframe thead th {\n",
       "        text-align: right;\n",
       "    }\n",
       "</style>\n",
       "<table border=\"1\" class=\"dataframe\">\n",
       "  <thead>\n",
       "    <tr style=\"text-align: right;\">\n",
       "      <th></th>\n",
       "      <th>method</th>\n",
       "      <th>accuracy</th>\n",
       "      <th>truepos</th>\n",
       "      <th>trueneg</th>\n",
       "      <th>falsepos</th>\n",
       "      <th>falseneg</th>\n",
       "    </tr>\n",
       "  </thead>\n",
       "  <tbody>\n",
       "    <tr>\n",
       "      <th>1</th>\n",
       "      <td>original</td>\n",
       "      <td>0.658009</td>\n",
       "      <td>97</td>\n",
       "      <td>42</td>\n",
       "      <td>41</td>\n",
       "      <td>28</td>\n",
       "    </tr>\n",
       "    <tr>\n",
       "      <th>2</th>\n",
       "      <td>first method</td>\n",
       "      <td>0.903846</td>\n",
       "      <td>135</td>\n",
       "      <td>53</td>\n",
       "      <td>3</td>\n",
       "      <td>17</td>\n",
       "    </tr>\n",
       "    <tr>\n",
       "      <th>3</th>\n",
       "      <td>Second method</td>\n",
       "      <td>0.927885</td>\n",
       "      <td>137</td>\n",
       "      <td>56</td>\n",
       "      <td>1</td>\n",
       "      <td>14</td>\n",
       "    </tr>\n",
       "    <tr>\n",
       "      <th>4</th>\n",
       "      <td>Third method</td>\n",
       "      <td>0.896341</td>\n",
       "      <td>106</td>\n",
       "      <td>41</td>\n",
       "      <td>2</td>\n",
       "      <td>15</td>\n",
       "    </tr>\n",
       "    <tr>\n",
       "      <th>5</th>\n",
       "      <td>Fourth method</td>\n",
       "      <td>0.926829</td>\n",
       "      <td>107</td>\n",
       "      <td>45</td>\n",
       "      <td>1</td>\n",
       "      <td>11</td>\n",
       "    </tr>\n",
       "  </tbody>\n",
       "</table>\n",
       "</div>"
      ],
      "text/plain": [
       "          method  accuracy truepos trueneg falsepos falseneg\n",
       "1       original  0.658009      97      42       41       28\n",
       "2   first method  0.903846     135      53        3       17\n",
       "3  Second method  0.927885     137      56        1       14\n",
       "4   Third method  0.896341     106      41        2       15\n",
       "5  Fourth method  0.926829     107      45        1       11"
      ]
     },
     "execution_count": 185,
     "metadata": {},
     "output_type": "execute_result"
    }
   ],
   "source": [
    "# Here is where you update the values with real data\n",
    "out.iloc[0]['method']='original'; out.iloc[0]['accuracy']=0.658008658009; out.iloc[0]['truepos']=97;out.iloc[0]['trueneg']=42; out.iloc[0]['falsepos']=41;out.iloc[0]['falseneg']=28\n",
    "out.iloc[1]['method']='first method'; out.iloc[1]['accuracy']=0.903846153846; out.iloc[1]['truepos']=135;out.iloc[1]['trueneg']=53; out.iloc[1]['falsepos']=3;out.iloc[1]['falseneg']=17\n",
    "out.iloc[2]['method']='Second method'; out.iloc[2]['accuracy']=0.927884615385; out.iloc[2]['truepos']=137;out.iloc[2]['trueneg']=56; out.iloc[2]['falsepos']=1;out.iloc[2]['falseneg']=14\n",
    "out.iloc[3]['method']='Third method'; out.iloc[3]['accuracy']=0.896341463415; out.iloc[3]['truepos']=106;out.iloc[3]['trueneg']=41; out.iloc[3]['falsepos']=2;out.iloc[3]['falseneg']=15\n",
    "out.iloc[4]['method']='Fourth method'; out.iloc[4]['accuracy']=0.926829268293; out.iloc[4]['truepos']=107;out.iloc[4]['trueneg']=45; out.iloc[4]['falsepos']=1;out.iloc[4]['falseneg']=11\n",
    "out"
   ]
  },
  {
   "cell_type": "code",
   "execution_count": null,
   "metadata": {
    "collapsed": true
   },
   "outputs": [],
   "source": []
  },
  {
   "cell_type": "code",
   "execution_count": null,
   "metadata": {
    "collapsed": true
   },
   "outputs": [],
   "source": []
  }
 ],
 "metadata": {
  "kernelspec": {
   "display_name": "Python 2",
   "language": "python",
   "name": "python2"
  },
  "language_info": {
   "codemirror_mode": {
    "name": "ipython",
    "version": 2
   },
   "file_extension": ".py",
   "mimetype": "text/x-python",
   "name": "python",
   "nbconvert_exporter": "python",
   "pygments_lexer": "ipython2",
   "version": "2.7.6"
  }
 },
 "nbformat": 4,
 "nbformat_minor": 0
}
